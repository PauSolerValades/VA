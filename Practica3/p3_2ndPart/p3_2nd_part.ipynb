{
 "cells": [
  {
   "cell_type": "markdown",
   "metadata": {
    "id": "0p2jmMDqjKqG"
   },
   "source": [
    "# Computer Vision - P3_2\n"
   ]
  },
  {
   "cell_type": "markdown",
   "metadata": {
    "id": "GlLbPew4xUas"
   },
   "source": []
  },
  {
   "cell_type": "markdown",
   "metadata": {
    "id": "5NfMMmPsjKqI"
   },
   "source": [
    "## Delivery\n",
    "\n",
    "Up to **1 point out of 10** will be penalized if the following requirements are not fulfilled:\n",
    "\n",
    "- Implemented code should be commented.\n",
    "\n",
    "- The questions introduced in the exercises must be answered.\n",
    "\n",
    "- Add title to the figures to explain what is displayed.\n",
    "\n",
    "- Comments need to be in **English**.\n",
    "\n",
    "- The deliverable must be a file named **P3_Student1_Student2.zip** that includes:\n",
    "    - The notebook P3_Student1_Student2.ipynb completed with the solutions to the exercises and their corresponding comments.\n",
    "    - All the images used in this notebook.\n",
    "\n",
    "**Deadline (Campus Virtual): October 26th, 23:00 h** "
   ]
  },
  {
   "cell_type": "markdown",
   "metadata": {
    "id": "XNRB92tGjKqI"
   },
   "source": [
    "==============================================================================================\n",
    "## Practicum 3: Image and Video Segmentation\n",
    "\n",
    "=============================================================================================="
   ]
  },
  {
   "cell_type": "markdown",
   "metadata": {
    "id": "WakUqk99jKqI"
   },
   "source": [
    "The main topics are:\n",
    "\n",
    "In Video Segmentation:\n",
    "\n",
    "3.1. Segmentation of video shots with static scenes.\n",
    "\n",
    "3.2. Background subtraction.\n",
    "\n",
    "In Image Segmentation:\n",
    "\n",
    "3.3. Segmentation of images.\n",
    "\n",
    "To successfuly complete this practicum it is necessary to understand the following theory concepts: video segmentation, background subtraction, K-means clustering, different image segmentation approaches,...\n",
    "\n",
    "The following chapters of the book “Computer Vision: Algorithms and Applicatons” from Richard Szeliski have further information about the topic:\n",
    "\n",
    "* Chapter 4: Computer Vision: Algorithms and Applications.\n",
    "\n",
    "* Chapter 5: Segmentation.\n",
    "\n"
   ]
  },
  {
   "cell_type": "markdown",
   "metadata": {
    "collapsed": true,
    "id": "cVk2_ezTjKqN"
   },
   "source": [
    "## 3.3 Segmentation of images\n",
    "\n",
    "Apply the image segmentation methods (Felzenswhalbs, Slic and Quickshift) based on the clustering of points corresponding to the pixels but in the feature space RGB-XY space.\n",
    "\n",
    "**Hint**: \n",
    "- Different image segmentation commands can be found in skimage.segmentation.\n",
    "- Use the function segmentation.mark_boundaries for seeing the boundaries of the segments.\n",
    "- Use the inline pluggin to visualize images (%matplotlib inline)."
   ]
  },
  {
   "cell_type": "markdown",
   "metadata": {
    "id": "xUx3anu_jKqN"
   },
   "source": [
    "### Felzenszwalb's efficient graph based segmentation\n",
    "\n",
    "a) Read 'rocki.jpeg' image from the folder 'images' and segment it using the Felzenszwalbs's method. Comment the result.\n"
   ]
  },
  {
   "cell_type": "code",
   "execution_count": 1,
   "metadata": {
    "id": "diQffSs_jKqN"
   },
   "outputs": [],
   "source": [
    "# Your soluction here"
   ]
  },
  {
   "cell_type": "markdown",
   "metadata": {
    "id": "oUUehSEpjKqN"
   },
   "source": [
    "b) Test and explore different parameters in order to obtain a good image segmentation up to you. \n",
    "Answer the following qüestions:\n",
    "- Is it critical to convert the image in grayscale in order to do the image segmentation?\n",
    "- Is it critical to convert the image in float in order to do the image segmentation?\n",
    "- Which are the optimal values according to your subjective perception?\n",
    "- How does each parameter behave?\n",
    "\n",
    "Note: You can reduce the size of the image in order to accelerate the running. Does the image reduction affect the optimal values? \n",
    "\n"
   ]
  },
  {
   "cell_type": "code",
   "execution_count": null,
   "metadata": {
    "id": "tLKSUOpPjKqN"
   },
   "outputs": [],
   "source": [
    "#your solution here"
   ]
  },
  {
   "cell_type": "markdown",
   "metadata": {
    "id": "PMl6kkX6jKqN"
   },
   "source": [
    "c) Comment the definition of the algorithm (use approximately 3 lines at most), its advantages and disadvantages."
   ]
  },
  {
   "cell_type": "code",
   "execution_count": null,
   "metadata": {
    "id": "B3DJCMz7jKqN"
   },
   "outputs": [],
   "source": [
    "#your solution here"
   ]
  },
  {
   "cell_type": "markdown",
   "metadata": {
    "id": "iXs7ItsxjKqN"
   },
   "source": [
    "### SLIC - K-Means based image segmentation\n",
    "d) Segment the same image using the SLIC image segmentation algorithm using the parameters by default. "
   ]
  },
  {
   "cell_type": "code",
   "execution_count": null,
   "metadata": {
    "id": "TINsnmLKjKqO"
   },
   "outputs": [],
   "source": [
    "#your solution here"
   ]
  },
  {
   "cell_type": "markdown",
   "metadata": {
    "id": "InNdkREXjKqO"
   },
   "source": [
    "e) Explore what are the parameters of the slic function. Test different values for these parameters in order to obtain a good image segmentation with SLIC algorithm.\n",
    "Answer the following qüestions:\n",
    "- Is it critical to convert the image in grayscale in order to do the image segmentation?\n",
    "- Is it critical to convert the image in float in order to do the image segmentation?\n",
    "- Which are the optimal values of the optional valriables?\n",
    "- How does each parameter behave?"
   ]
  },
  {
   "cell_type": "code",
   "execution_count": null,
   "metadata": {
    "id": "Sig7krOijKqO"
   },
   "outputs": [],
   "source": [
    "#your solution here"
   ]
  },
  {
   "cell_type": "markdown",
   "metadata": {
    "id": "eZjR2fivjKqO"
   },
   "source": [
    "f) Comment what the algorithm is (in up to 3 lines)."
   ]
  },
  {
   "cell_type": "code",
   "execution_count": null,
   "metadata": {
    "id": "G8BPWacBjKqO"
   },
   "outputs": [],
   "source": [
    "#your solution here"
   ]
  },
  {
   "cell_type": "markdown",
   "metadata": {},
   "source": [
    "### Quickshift image segmentation\n",
    "\n",
    "g) Segment the same image using the Quickshift algorithm. "
   ]
  },
  {
   "cell_type": "code",
   "execution_count": null,
   "metadata": {},
   "outputs": [],
   "source": [
    "#your solution here"
   ]
  },
  {
   "cell_type": "markdown",
   "metadata": {
    "id": "p4kbwYPdjKqO"
   },
   "source": [
    "h) Test different parameters in order to obtain a good image segmentation with Quickshift algorithm.\n",
    "Answer the following qüestions:\n",
    "- Which are the optimal values?\n",
    "- How does each parameter behave?"
   ]
  },
  {
   "cell_type": "code",
   "execution_count": null,
   "metadata": {},
   "outputs": [],
   "source": [
    "#your solution here"
   ]
  },
  {
   "cell_type": "markdown",
   "metadata": {},
   "source": [
    "i) Comment what the algorithm is (in up to 3 lines)."
   ]
  },
  {
   "cell_type": "code",
   "execution_count": null,
   "metadata": {},
   "outputs": [],
   "source": [
    "#your solution here"
   ]
  },
  {
   "cell_type": "markdown",
   "metadata": {
    "id": "eP_K6vS6jKqO"
   },
   "source": [
    "### Comparison of segmentation algorithms\n",
    "j) Plot the original image and the results of both algorithms in a 1x3 subplot using the optimal values."
   ]
  },
  {
   "cell_type": "code",
   "execution_count": null,
   "metadata": {
    "id": "bal-t8f2jKqO"
   },
   "outputs": [],
   "source": [
    "#your solution here"
   ]
  },
  {
   "cell_type": "markdown",
   "metadata": {
    "id": "6-jh9-uSjKqO"
   },
   "source": [
    "k) Calculate also the number of segments obtained on the image by each of the algorithms. Can the number of segments can be used as a criterion for the performance of the algorithms?"
   ]
  },
  {
   "cell_type": "code",
   "execution_count": null,
   "metadata": {
    "id": "4wf_XyhbjKqO"
   },
   "outputs": [],
   "source": [
    "#your solution here"
   ]
  },
  {
   "cell_type": "markdown",
   "metadata": {
    "id": "CA0NUtZNjKqO"
   },
   "source": [
    "l) Comment the differences between each method as well as their advantages and disadvantages."
   ]
  },
  {
   "cell_type": "code",
   "execution_count": null,
   "metadata": {
    "id": "A_YTujAowpp5"
   },
   "outputs": [],
   "source": [
    "#your solution here"
   ]
  },
  {
   "cell_type": "markdown",
   "metadata": {
    "id": "tgIkLkk9wuSZ"
   },
   "source": [
    "m) Choose another couple of color and grayscale images from the folder 'images' as well as from internet and apply the three segmentation methods. Comment the results."
   ]
  }
 ],
 "metadata": {
  "colab": {
   "collapsed_sections": [],
   "name": "p3_2nd_part.ipynb",
   "provenance": []
  },
  "kernelspec": {
   "display_name": "Python 3",
   "language": "python",
   "name": "python3"
  },
  "language_info": {
   "codemirror_mode": {
    "name": "ipython",
    "version": 3
   },
   "file_extension": ".py",
   "mimetype": "text/x-python",
   "name": "python",
   "nbconvert_exporter": "python",
   "pygments_lexer": "ipython3",
   "version": "3.9.5"
  }
 },
 "nbformat": 4,
 "nbformat_minor": 1
}
