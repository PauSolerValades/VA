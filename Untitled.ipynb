{
 "cells": [
  {
   "cell_type": "markdown",
   "metadata": {},
   "source": [
    "# Resum Examen Practic"
   ]
  },
  {
   "cell_type": "code",
   "execution_count": null,
   "metadata": {},
   "outputs": [],
   "source": [
    "import numpy as np # useful for manipulating matrices\n",
    "from skimage import * # useful for image loading and saving\n",
    "from skimage import color\n",
    "from matplotlib import pyplot as plt # useful for plotting images on iPython or Jupyter Notebooks\n",
    "from skimage.transform import resize"
   ]
  },
  {
   "cell_type": "markdown",
   "metadata": {},
   "source": [
    "Seguit de funcions útils que poden anar bé:"
   ]
  },
  {
   "cell_type": "code",
   "execution_count": null,
   "metadata": {},
   "outputs": [],
   "source": [
    "def normalize(image): return (image[:,:]- image.min())/(image.max() - image.min())\n",
    "\n",
    "def makeHistogram(image, numberOfBins, title):\n",
    "\n",
    "    if(image.shape[2]==4):\n",
    "        image_gray=rgb2gray(rgba2rgb(image))\n",
    "    else:\n",
    "        image_gray=rgb2gray(image)\n",
    "    \n",
    "    hst_r, bins_r = histogram( img_as_float(image[:,:,0]), nbins=numberOfBins)\n",
    "    hst_g, bins_g = histogram( img_as_float(image[:,:,1]), nbins=numberOfBins)\n",
    "    hst_b, bins_b = histogram( img_as_float(image[:,:,2]), nbins=numberOfBins)\n",
    "    hst_gy, bins_gy = histogram( img_as_float(image_gray[:,:]), nbins=numberOfBins)\n",
    "    \n",
    "    ind = np.arange(numberOfBins)\n",
    "\n",
    "    fig = plt.figure(figsize=(18,8))\n",
    "    cl_gy = plt.bar( ind, hst_gy,0.2, color='y')\n",
    "    cl_r = plt.bar( ind+.2, hst_r, 0.2, color='r')\n",
    "    cl_g = plt.bar( ind+.4, hst_g,0.2, color='g')\n",
    "    cl_b = plt.bar( ind+.6, hst_b,0.2, color='b')\n",
    "    plt.legend((cl_r[0], cl_g[0], cl_b[0], cl_gy[0]), ('Red','Green','Blue', 'Gray'), loc=2, prop={'size': 20})\n",
    "    plt.title(title)\n",
    "    plt.show()\n",
    "\n",
    "def visualize2(tigre_f,tigre_x,label1,label2):\n",
    "    #visualize\n",
    "    fig=plt.figure(figsize=(15,15))\n",
    "    fig.add_subplot(1,2,1)\n",
    "    plt.title(label1)\n",
    "    plt.imshow(tigre_f, cmap='gray')\n",
    "    plt.xticks([])\n",
    "    plt.yticks([])\n",
    "    fig.add_subplot(1,2,2)\n",
    "    plt.title(label2)\n",
    "    plt.xticks([])\n",
    "    plt.yticks([])\n",
    "    plt.imshow(tigre_x, cmap='gray')\n",
    "    \n",
    "def visualize3(tigre_f,tigre_x,tigre_xb,label1,label2,label3):\n",
    "    #visualize\n",
    "    fig=plt.figure(figsize=(15,15))\n",
    "    fig.add_subplot(1,3,1)\n",
    "    plt.title(label1)\n",
    "    plt.imshow(tigre_f, cmap='gray')\n",
    "    plt.xticks([])\n",
    "    plt.yticks([])\n",
    "    fig.add_subplot(1,3,2)\n",
    "    plt.title(label2)\n",
    "    plt.xticks([])\n",
    "    plt.yticks([])\n",
    "    plt.imshow(tigre_x, cmap='gray')\n",
    "    fig.add_subplot(1,3,3)\n",
    "    plt.xticks([])\n",
    "    plt.yticks([])\n",
    "    plt.title(label3)\n",
    "    plt.imshow(tigre_xb, cmap='gray')\n",
    "\n",
    "\n",
    "def visualize4(tigre1,tigre2,tigre3,tigre4,label1,label2,label3,label4):\n",
    "    #visualize\n",
    "    fig=plt.figure(figsize=(15,15))\n",
    "    fig.add_subplot(1,4,1)\n",
    "    plt.title(label1)\n",
    "    plt.imshow(tigre1, cmap='gray')\n",
    "    plt.xticks([])\n",
    "    plt.yticks([])\n",
    "    fig.add_subplot(1,4,2)\n",
    "    plt.title(label2)\n",
    "    plt.xticks([])\n",
    "    plt.yticks([])\n",
    "    plt.imshow(tigre2, cmap='gray')\n",
    "    fig.add_subplot(1,4,3)\n",
    "    plt.xticks([])\n",
    "    plt.yticks([])\n",
    "    plt.title(label3)\n",
    "    plt.imshow(tigre3, cmap='gray')\n",
    "    fig.add_subplot(1,4,4)\n",
    "    plt.xticks([])\n",
    "    plt.yticks([])\n",
    "    plt.title(label4)\n",
    "    plt.imshow(tigre4, cmap='gray')\n",
    "    \n",
    "def visualize4NotRescaled(tigre1,tigre2,tigre3,tigre4,label1,label2,label3,label4):\n",
    "    #visualize\n",
    "    fig=plt.figure(figsize=(15,15))\n",
    "    fig.add_subplot(1,4,1)\n",
    "    plt.title(label1)\n",
    "    plt.imshow(tigre1, cmap='gray', vmin=0, vmax=255)\n",
    "    plt.xticks([])\n",
    "    plt.yticks([])\n",
    "    fig.add_subplot(1,4,2)\n",
    "    plt.title(label2)\n",
    "    plt.xticks([])\n",
    "    plt.yticks([])\n",
    "    plt.imshow(tigre2, cmap='gray', vmin=0, vmax=255)\n",
    "    fig.add_subplot(1,4,3)\n",
    "    plt.xticks([])\n",
    "    plt.yticks([])\n",
    "    plt.title(label3)\n",
    "    plt.imshow(tigre3, cmap='gray', vmin=0, vmax=255)\n",
    "    fig.add_subplot(1,4,4)\n",
    "    plt.xticks([])\n",
    "    plt.yticks([])\n",
    "    plt.title(label4)\n",
    "    plt.imshow(tigre4, cmap='gray', vmin=0, vmax=255)"
   ]
  },
  {
   "cell_type": "markdown",
   "metadata": {},
   "source": [
    "Crear matriu amb shape concreta plena d'uns."
   ]
  },
  {
   "cell_type": "code",
   "execution_count": 2,
   "metadata": {},
   "outputs": [
    {
     "name": "stdout",
     "output_type": "stream",
     "text": [
      "(150, 200)\n",
      "30000\n",
      "uint8\n"
     ]
    }
   ],
   "source": [
    "import numpy as np\n",
    "\n",
    "image=np.zeros((150,200),dtype=np.uint8)\n",
    "print(image.shape)\n",
    "print(image.size)\n",
    "print(image.dtype)"
   ]
  },
  {
   "cell_type": "markdown",
   "metadata": {},
   "source": [
    "Carregar i guardar imatge a fitxer:"
   ]
  },
  {
   "cell_type": "code",
   "execution_count": 3,
   "metadata": {},
   "outputs": [
    {
     "name": "stderr",
     "output_type": "stream",
     "text": [
      "/home/pau/.local/lib/python3.8/site-packages/skimage/io/manage_plugins.py:23: UserWarning: Your installed pillow version is < 7.1.0. Several security issues (CVE-2020-11538, CVE-2020-10379, CVE-2020-10994, CVE-2020-10177) have been fixed in pillow 7.1.0 or higher. We recommend to upgrade this library.\n",
      "  from .collection import imread_collection_wrapper\n",
      "<ipython-input-3-c7fe306417d0>:3: UserWarning: image.jpeg is a low contrast image\n",
      "  io.imsave('image.jpeg', image)\n"
     ]
    }
   ],
   "source": [
    "from skimage import io\n",
    "\n",
    "io.imsave('image.jpeg', image)\n",
    "\n",
    "image = io.imread('image.jpeg')"
   ]
  },
  {
   "cell_type": "markdown",
   "metadata": {},
   "source": [
    "Conversions de formats:"
   ]
  },
  {
   "cell_type": "code",
   "execution_count": null,
   "metadata": {},
   "outputs": [],
   "source": [
    "image_float = img_to_float(image)\n",
    "mask = img_as_ubyte(image) #torna a uint8"
   ]
  },
  {
   "cell_type": "markdown",
   "metadata": {},
   "source": [
    "Conversions de Colors:"
   ]
  },
  {
   "cell_type": "code",
   "execution_count": null,
   "metadata": {},
   "outputs": [],
   "source": [
    "#si t'arriba quelcom amb (m,n,4) es de rgba, així que s'ha de reconverti\n",
    "color_image = rgba2rgb(image)\n",
    "gray_image = rgb2gray(color_image)"
   ]
  },
  {
   "cell_type": "markdown",
   "metadata": {},
   "source": [
    "Condicions dins d'una matriu (per fer una máscara o així):"
   ]
  },
  {
   "cell_type": "code",
   "execution_count": null,
   "metadata": {},
   "outputs": [],
   "source": []
  }
 ],
 "metadata": {
  "kernelspec": {
   "display_name": "Python 3",
   "language": "python",
   "name": "python3"
  },
  "language_info": {
   "codemirror_mode": {
    "name": "ipython",
    "version": 3
   },
   "file_extension": ".py",
   "mimetype": "text/x-python",
   "name": "python",
   "nbconvert_exporter": "python",
   "pygments_lexer": "ipython3",
   "version": "3.8.10"
  }
 },
 "nbformat": 4,
 "nbformat_minor": 4
}
